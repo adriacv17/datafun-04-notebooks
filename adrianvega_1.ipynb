{
 "cells": [
  {
   "cell_type": "markdown",
   "metadata": {},
   "source": [
    "# Module 4 Project\n",
    "Author: [Adrian Vega](https://github.com/adriacv17) Respository: [data-04-notebooks](https://github.com/adriacv17/datafun-04-notebooks)"
   ]
  },
  {
   "cell_type": "markdown",
   "metadata": {},
   "source": [
    "## Task 1 - Series "
   ]
  },
  {
   "cell_type": "code",
   "execution_count": 12,
   "metadata": {},
   "outputs": [
    {
     "data": {
      "text/plain": [
       "(12,\n",
       " 77.33,\n",
       " 40,\n",
       " 100,\n",
       " 17.23,\n",
       " count     12.00\n",
       " mean      77.33\n",
       " std       17.23\n",
       " min       40.00\n",
       " 25%       72.00\n",
       " 50%       78.50\n",
       " 75%       88.75\n",
       " max      100.00\n",
       " dtype: float64)"
      ]
     },
     "execution_count": 12,
     "metadata": {},
     "output_type": "execute_result"
    }
   ],
   "source": [
    "# importing pandas library to jupyter notebook\n",
    "import pandas as pd\n",
    "\n",
    "# creating a panda series of integers using grades\n",
    "grades = pd.Series([40 ,55 ,73 ,100 ,85 ,69 ,80 ,97 ,91 ,88 ,73 ,77])\n",
    "\n",
    "# getting grade in first position using grades [0]\n",
    "grades[0]\n",
    "\n",
    "# built in Series functions: count(), mean(), min(), max(), std(), and describe()\n",
    "grades.count(), grades.mean().round(2), grades.min(), grades.max(), grades.std().round(2), grades.describe().round(2)"
   ]
  }
 ],
 "metadata": {
  "kernelspec": {
   "display_name": "Python (.venv)",
   "language": "python",
   "name": ".venv"
  },
  "language_info": {
   "codemirror_mode": {
    "name": "ipython",
    "version": 3
   },
   "file_extension": ".py",
   "mimetype": "text/x-python",
   "name": "python",
   "nbconvert_exporter": "python",
   "pygments_lexer": "ipython3",
   "version": "3.11.4"
  },
  "orig_nbformat": 4
 },
 "nbformat": 4,
 "nbformat_minor": 2
}

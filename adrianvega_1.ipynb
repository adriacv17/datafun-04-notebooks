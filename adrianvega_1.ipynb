{
 "cells": [
  {
   "cell_type": "markdown",
   "metadata": {},
   "source": [
    "# Module 4 Project\n",
    "Author: [Adrian Vega](https://github.com/adriacv17) Respository: [data-04-notebooks](https://github.com/adriacv17/datafun-04-notebooks)"
   ]
  },
  {
   "cell_type": "markdown",
   "metadata": {},
   "source": [
    "## Task 1 - Series "
   ]
  },
  {
   "cell_type": "code",
   "execution_count": null,
   "metadata": {},
   "outputs": [],
   "source": [
    "# importing pandas library to jupyter notebook\n",
    "import pandas as pd\n",
    "\n",
    "# creating a panda series of integers using grades\n",
    "grades = pd.Series([40 ,55 ,73 ,100 ,85 ,69 ,80 ,97 ,91 ,88 ,73 ,77])\n",
    "\n",
    "# getting grade in first position using grades [0]\n",
    "grades[0]\n",
    "\n",
    "# built in Series functions: count(), mean(), min(), max(), std(), and describe() printed\n",
    "# grades.count(), grades.mean(), grades.min(), grades.max(), grades.std(), grades.describe()\n",
    "# added rounding for readablity \n",
    "\n",
    "count = grades.count()\n",
    "mean = grades.mean().round(2)\n",
    "min  = grades.min()\n",
    "max = grades.max()\n",
    "sd = grades.std().round(2)\n",
    "desc = grades.describe().round(2)\n",
    "\n",
    "print('count', count)\n",
    "print('mean', mean)\n",
    "print('min', min)\n",
    "print('max',max)\n",
    "print('standard deviation', sd)\n",
    "\n",
    "# print grade in position 0\n",
    "print('grade in position 0: ', grades[0])\n",
    "\n",
    "\n",
    "\n",
    "\n"
   ]
  },
  {
   "cell_type": "code",
   "execution_count": null,
   "metadata": {},
   "outputs": [],
   "source": [
    "# grades by describe\n",
    "grades.describe()"
   ]
  },
  {
   "cell_type": "markdown",
   "metadata": {},
   "source": [
    "## Task 2 - Series from Dictionary"
   ]
  }
 ],
 "metadata": {
  "kernelspec": {
   "display_name": "Python (.venv)",
   "language": "python",
   "name": ".venv"
  },
  "language_info": {
   "codemirror_mode": {
    "name": "ipython",
    "version": 3
   },
   "file_extension": ".py",
   "mimetype": "text/x-python",
   "name": "python",
   "nbconvert_exporter": "python",
   "pygments_lexer": "ipython3",
   "version": "3.11.4"
  },
  "orig_nbformat": 4
 },
 "nbformat": 4,
 "nbformat_minor": 2
}

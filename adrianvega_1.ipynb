{
 "cells": [
  {
   "cell_type": "markdown",
   "metadata": {},
   "source": [
    "# Module 4 Project\n",
    "Author: [Adrian Vega](https://github.com/adriacv17) Respository: [data-04-notebooks](https://github.com/adriacv17/datafun-04-notebooks)"
   ]
  },
  {
   "cell_type": "markdown",
   "metadata": {},
   "source": [
    "## Task 1 - Series "
   ]
  },
  {
   "cell_type": "code",
   "execution_count": 10,
   "metadata": {},
   "outputs": [],
   "source": [
    "# importing libraries to jupyter notebook\n",
    "import pandas as pd\n",
    "import numpy as np\n"
   ]
  },
  {
   "cell_type": "code",
   "execution_count": 11,
   "metadata": {},
   "outputs": [
    {
     "name": "stdout",
     "output_type": "stream",
     "text": [
      "count 12\n",
      "mean 77.33\n",
      "min 40\n",
      "max 100\n",
      "standard deviation 17.23\n",
      "grade in position 0:  40\n"
     ]
    }
   ],
   "source": [
    "# creating a panda series of integers using grades\n",
    "grades = pd.Series([40 ,55 ,73 ,100 ,85 ,69 ,80 ,97 ,91 ,88 ,73 ,77])\n",
    "\n",
    "# getting grade in first position using grades [0]\n",
    "grades[0]\n",
    "\n",
    "# built in Series functions: count(), mean(), min(), max(), std(), and describe() printed\n",
    "# grades.count(), grades.mean(), grades.min(), grades.max(), grades.std(), grades.describe()\n",
    "# added rounding for readablity \n",
    "\n",
    "count = grades.count()\n",
    "mean = grades.mean().round(2)\n",
    "min  = grades.min()\n",
    "max = grades.max()\n",
    "sd = grades.std().round(2)\n",
    "desc = grades.describe().round(2)\n",
    "\n",
    "print('count', count)\n",
    "print('mean', mean)\n",
    "print('min', min)\n",
    "print('max',max)\n",
    "print('standard deviation', sd)\n",
    "\n",
    "# print grade in position 0\n",
    "print('grade in position 0: ', grades[0])\n",
    "\n",
    "\n",
    "\n",
    "\n"
   ]
  },
  {
   "cell_type": "code",
   "execution_count": 15,
   "metadata": {},
   "outputs": [
    {
     "data": {
      "text/plain": [
       "count     12.00\n",
       "mean      77.33\n",
       "std       17.23\n",
       "min       40.00\n",
       "25%       72.00\n",
       "50%       78.50\n",
       "75%       88.75\n",
       "max      100.00\n",
       "dtype: float64"
      ]
     },
     "execution_count": 15,
     "metadata": {},
     "output_type": "execute_result"
    }
   ],
   "source": [
    "# grades by describe with rounding for readability\n",
    "grades.describe().round(2)"
   ]
  },
  {
   "cell_type": "markdown",
   "metadata": {},
   "source": [
    "## Task 2 - Series from Dictionary"
   ]
  },
  {
   "cell_type": "code",
   "execution_count": 5,
   "metadata": {},
   "outputs": [
    {
     "data": {
      "text/plain": [
       "Wally     87\n",
       "Eva      100\n",
       "Sam       94\n",
       "dtype: int64"
      ]
     },
     "execution_count": 5,
     "metadata": {},
     "output_type": "execute_result"
    }
   ],
   "source": [
    "# Follow the instructions in the \"Dictionary Initializers' subsection to modify your code to initialize \n",
    "# grades with a dictionary (a set of key-value pairs instead) \n",
    "\n",
    "grades = pd.Series({'Wally': 87, 'Eva': 100, 'Sam': 94})\n",
    "\n",
    "# Call grades\n",
    "grades"
   ]
  },
  {
   "cell_type": "code",
   "execution_count": 7,
   "metadata": {},
   "outputs": [
    {
     "data": {
      "text/plain": [
       "100"
      ]
     },
     "execution_count": 7,
     "metadata": {},
     "output_type": "execute_result"
    }
   ],
   "source": [
    "# Get Eva's score by calling grades['Eva']\n",
    "grades['Eva']"
   ]
  },
  {
   "cell_type": "code",
   "execution_count": 8,
   "metadata": {},
   "outputs": [
    {
     "data": {
      "text/plain": [
       "87"
      ]
     },
     "execution_count": 8,
     "metadata": {},
     "output_type": "execute_result"
    }
   ],
   "source": [
    "# Get Wally's score using the easier dot notation: grades.Wally\n",
    "grades.Wally"
   ]
  },
  {
   "cell_type": "code",
   "execution_count": 9,
   "metadata": {},
   "outputs": [
    {
     "data": {
      "text/plain": [
       "array([ 87, 100,  94], dtype=int64)"
      ]
     },
     "execution_count": 9,
     "metadata": {},
     "output_type": "execute_result"
    }
   ],
   "source": [
    "# Use the Series values attribute to display the array of values.\n",
    "grades.values"
   ]
  },
  {
   "cell_type": "code",
   "execution_count": 21,
   "metadata": {},
   "outputs": [
    {
     "data": {
      "text/plain": [
       "0    89\n",
       "1    75\n",
       "2    72\n",
       "3    92\n",
       "4    68\n",
       "dtype: int32"
      ]
     },
     "execution_count": 21,
     "metadata": {},
     "output_type": "execute_result"
    }
   ],
   "source": [
    "# Self-check page 266\n",
    "\n",
    "# getting a range between 60 and 100 of 5 integers\n",
    "\n",
    "temps = np.random.randint(60, 101, 5)\n",
    "\n",
    "temperatures = pd.Series(temps)\n",
    "\n",
    "temperatures\n"
   ]
  },
  {
   "cell_type": "code",
   "execution_count": 20,
   "metadata": {},
   "outputs": [
    {
     "data": {
      "text/plain": [
       "70"
      ]
     },
     "execution_count": 20,
     "metadata": {},
     "output_type": "execute_result"
    }
   ],
   "source": [
    "# calling minimum temperature\n",
    "temperatures.min()"
   ]
  },
  {
   "cell_type": "code",
   "execution_count": 22,
   "metadata": {},
   "outputs": [
    {
     "data": {
      "text/plain": [
       "92"
      ]
     },
     "execution_count": 22,
     "metadata": {},
     "output_type": "execute_result"
    }
   ],
   "source": [
    "# calling maximum temperature\n",
    "temperatures.max()"
   ]
  },
  {
   "cell_type": "code",
   "execution_count": 23,
   "metadata": {},
   "outputs": [
    {
     "data": {
      "text/plain": [
       "79.2"
      ]
     },
     "execution_count": 23,
     "metadata": {},
     "output_type": "execute_result"
    }
   ],
   "source": [
    "# calling mean of temperatures\n",
    "temperatures.mean()"
   ]
  },
  {
   "cell_type": "code",
   "execution_count": 24,
   "metadata": {},
   "outputs": [
    {
     "data": {
      "text/plain": [
       "count     5.00000\n",
       "mean     79.20000\n",
       "std      10.66302\n",
       "min      68.00000\n",
       "25%      72.00000\n",
       "50%      75.00000\n",
       "75%      89.00000\n",
       "max      92.00000\n",
       "dtype: float64"
      ]
     },
     "execution_count": 24,
     "metadata": {},
     "output_type": "execute_result"
    }
   ],
   "source": [
    "# getting statistics  using describe\n",
    "temperatures.describe()"
   ]
  }
 ],
 "metadata": {
  "kernelspec": {
   "display_name": "Python (.venv)",
   "language": "python",
   "name": ".venv"
  },
  "language_info": {
   "codemirror_mode": {
    "name": "ipython",
    "version": 3
   },
   "file_extension": ".py",
   "mimetype": "text/x-python",
   "name": "python",
   "nbconvert_exporter": "python",
   "pygments_lexer": "ipython3",
   "version": "3.11.4"
  },
  "orig_nbformat": 4
 },
 "nbformat": 4,
 "nbformat_minor": 2
}
